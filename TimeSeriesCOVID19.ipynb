{
 "cells": [
  {
   "cell_type": "markdown",
   "metadata": {},
   "source": [
    "# Comparing time series predictions of COVID-19 deaths"
   ]
  },
  {
   "cell_type": "markdown",
   "metadata": {},
   "source": [
    "\n",
    "![Comparison](Comparison.png)"
   ]
  },
  {
   "cell_type": "code",
   "execution_count": 106,
   "metadata": {},
   "outputs": [],
   "source": [
    "import pmdarima as pm\n",
    "from statsmodels.tsa.seasonal import seasonal_decompose\n",
    "from sklearn.model_selection import TimeSeriesSplit\n",
    "import pandas as pd\n",
    "import numpy as np\n",
    "import datetime\n",
    "import requests\n",
    "import warnings\n",
    "\n",
    "import matplotlib.pyplot as plt\n",
    "import matplotlib\n",
    "import matplotlib.dates as mdates\n",
    "\n",
    "from xgboost import XGBRegressor\n",
    "from sklearn.ensemble import RandomForestRegressor\n",
    "from sklearn.metrics import mean_squared_error, mean_absolute_error\n",
    "from sklearn.preprocessing import OrdinalEncoder\n",
    "from sklearn.svm import SVR\n",
    "from sklearn.model_selection import train_test_split\n",
    "from statsmodels.tsa.statespace.sarimax import SARIMAX\n",
    "from statsmodels.tsa.arima_model import ARIMA\n",
    "from sklearn.preprocessing import StandardScaler\n",
    "from fbprophet import Prophet\n",
    "from fbprophet.plot import plot_plotly, add_changepoints_to_plot\n",
    "from keras.models import Sequential\n",
    "from keras.layers import Dense\n",
    "\n",
    "from keras.optimizers import Adam\n",
    "\n",
    "warnings.filterwarnings('ignore')\n"
   ]
  },
  {
   "cell_type": "markdown",
   "metadata": {},
   "source": [
    "# Task 1: Open the data and prepare the dataset data frame"
   ]
  },
  {
   "cell_type": "code",
   "execution_count": 107,
   "metadata": {},
   "outputs": [],
   "source": [
    "deaths_df = pd.read_csv('time_series_covid19_deaths_global.csv')"
   ]
  },
  {
   "cell_type": "markdown",
   "metadata": {},
   "source": [
    "First, get the data for the daily deaths in all countries in the report"
   ]
  },
  {
   "cell_type": "code",
   "execution_count": 108,
   "metadata": {},
   "outputs": [
    {
     "data": {
      "text/html": [
       "<div>\n",
       "<style scoped>\n",
       "    .dataframe tbody tr th:only-of-type {\n",
       "        vertical-align: middle;\n",
       "    }\n",
       "\n",
       "    .dataframe tbody tr th {\n",
       "        vertical-align: top;\n",
       "    }\n",
       "\n",
       "    .dataframe thead th {\n",
       "        text-align: right;\n",
       "    }\n",
       "</style>\n",
       "<table border=\"1\" class=\"dataframe\">\n",
       "  <thead>\n",
       "    <tr style=\"text-align: right;\">\n",
       "      <th></th>\n",
       "      <th>1/22/20</th>\n",
       "      <th>1/23/20</th>\n",
       "      <th>1/24/20</th>\n",
       "      <th>1/25/20</th>\n",
       "      <th>1/26/20</th>\n",
       "      <th>1/27/20</th>\n",
       "      <th>1/28/20</th>\n",
       "      <th>1/29/20</th>\n",
       "      <th>1/30/20</th>\n",
       "      <th>1/31/20</th>\n",
       "      <th>...</th>\n",
       "      <th>8/7/20</th>\n",
       "      <th>8/8/20</th>\n",
       "      <th>8/9/20</th>\n",
       "      <th>8/10/20</th>\n",
       "      <th>8/11/20</th>\n",
       "      <th>8/12/20</th>\n",
       "      <th>8/13/20</th>\n",
       "      <th>8/14/20</th>\n",
       "      <th>8/15/20</th>\n",
       "      <th>8/16/20</th>\n",
       "    </tr>\n",
       "  </thead>\n",
       "  <tbody>\n",
       "    <tr>\n",
       "      <th>0</th>\n",
       "      <td>0</td>\n",
       "      <td>0</td>\n",
       "      <td>0</td>\n",
       "      <td>0</td>\n",
       "      <td>0</td>\n",
       "      <td>0</td>\n",
       "      <td>0</td>\n",
       "      <td>0</td>\n",
       "      <td>0</td>\n",
       "      <td>0</td>\n",
       "      <td>...</td>\n",
       "      <td>1307</td>\n",
       "      <td>1312</td>\n",
       "      <td>1312</td>\n",
       "      <td>1328</td>\n",
       "      <td>1344</td>\n",
       "      <td>1354</td>\n",
       "      <td>1363</td>\n",
       "      <td>1363</td>\n",
       "      <td>1370</td>\n",
       "      <td>1375</td>\n",
       "    </tr>\n",
       "    <tr>\n",
       "      <th>1</th>\n",
       "      <td>0</td>\n",
       "      <td>0</td>\n",
       "      <td>0</td>\n",
       "      <td>0</td>\n",
       "      <td>0</td>\n",
       "      <td>0</td>\n",
       "      <td>0</td>\n",
       "      <td>0</td>\n",
       "      <td>0</td>\n",
       "      <td>0</td>\n",
       "      <td>...</td>\n",
       "      <td>189</td>\n",
       "      <td>193</td>\n",
       "      <td>199</td>\n",
       "      <td>200</td>\n",
       "      <td>205</td>\n",
       "      <td>208</td>\n",
       "      <td>213</td>\n",
       "      <td>219</td>\n",
       "      <td>225</td>\n",
       "      <td>228</td>\n",
       "    </tr>\n",
       "    <tr>\n",
       "      <th>2</th>\n",
       "      <td>0</td>\n",
       "      <td>0</td>\n",
       "      <td>0</td>\n",
       "      <td>0</td>\n",
       "      <td>0</td>\n",
       "      <td>0</td>\n",
       "      <td>0</td>\n",
       "      <td>0</td>\n",
       "      <td>0</td>\n",
       "      <td>0</td>\n",
       "      <td>...</td>\n",
       "      <td>1282</td>\n",
       "      <td>1293</td>\n",
       "      <td>1302</td>\n",
       "      <td>1312</td>\n",
       "      <td>1322</td>\n",
       "      <td>1333</td>\n",
       "      <td>1341</td>\n",
       "      <td>1351</td>\n",
       "      <td>1360</td>\n",
       "      <td>1370</td>\n",
       "    </tr>\n",
       "    <tr>\n",
       "      <th>3</th>\n",
       "      <td>0</td>\n",
       "      <td>0</td>\n",
       "      <td>0</td>\n",
       "      <td>0</td>\n",
       "      <td>0</td>\n",
       "      <td>0</td>\n",
       "      <td>0</td>\n",
       "      <td>0</td>\n",
       "      <td>0</td>\n",
       "      <td>0</td>\n",
       "      <td>...</td>\n",
       "      <td>52</td>\n",
       "      <td>52</td>\n",
       "      <td>52</td>\n",
       "      <td>52</td>\n",
       "      <td>52</td>\n",
       "      <td>53</td>\n",
       "      <td>53</td>\n",
       "      <td>53</td>\n",
       "      <td>53</td>\n",
       "      <td>53</td>\n",
       "    </tr>\n",
       "    <tr>\n",
       "      <th>4</th>\n",
       "      <td>0</td>\n",
       "      <td>0</td>\n",
       "      <td>0</td>\n",
       "      <td>0</td>\n",
       "      <td>0</td>\n",
       "      <td>0</td>\n",
       "      <td>0</td>\n",
       "      <td>0</td>\n",
       "      <td>0</td>\n",
       "      <td>0</td>\n",
       "      <td>...</td>\n",
       "      <td>67</td>\n",
       "      <td>70</td>\n",
       "      <td>75</td>\n",
       "      <td>78</td>\n",
       "      <td>80</td>\n",
       "      <td>80</td>\n",
       "      <td>80</td>\n",
       "      <td>86</td>\n",
       "      <td>86</td>\n",
       "      <td>88</td>\n",
       "    </tr>\n",
       "  </tbody>\n",
       "</table>\n",
       "<p>5 rows × 208 columns</p>\n",
       "</div>"
      ],
      "text/plain": [
       "   1/22/20  1/23/20  1/24/20  1/25/20  1/26/20  1/27/20  1/28/20  1/29/20  \\\n",
       "0        0        0        0        0        0        0        0        0   \n",
       "1        0        0        0        0        0        0        0        0   \n",
       "2        0        0        0        0        0        0        0        0   \n",
       "3        0        0        0        0        0        0        0        0   \n",
       "4        0        0        0        0        0        0        0        0   \n",
       "\n",
       "   1/30/20  1/31/20  ...  8/7/20  8/8/20  8/9/20  8/10/20  8/11/20  8/12/20  \\\n",
       "0        0        0  ...    1307    1312    1312     1328     1344     1354   \n",
       "1        0        0  ...     189     193     199      200      205      208   \n",
       "2        0        0  ...    1282    1293    1302     1312     1322     1333   \n",
       "3        0        0  ...      52      52      52       52       52       53   \n",
       "4        0        0  ...      67      70      75       78       80       80   \n",
       "\n",
       "   8/13/20  8/14/20  8/15/20  8/16/20  \n",
       "0     1363     1363     1370     1375  \n",
       "1      213      219      225      228  \n",
       "2     1341     1351     1360     1370  \n",
       "3       53       53       53       53  \n",
       "4       80       86       86       88  \n",
       "\n",
       "[5 rows x 208 columns]"
      ]
     },
     "execution_count": 108,
     "metadata": {},
     "output_type": "execute_result"
    }
   ],
   "source": [
    "d = deaths_df.loc[:, '1/22/20' :]\n",
    "d.head()"
   ]
  },
  {
   "cell_type": "markdown",
   "metadata": {},
   "source": [
    "Transpose the data frame"
   ]
  },
  {
   "cell_type": "code",
   "execution_count": 109,
   "metadata": {},
   "outputs": [],
   "source": [
    "d = d.transpose()"
   ]
  },
  {
   "cell_type": "markdown",
   "metadata": {},
   "source": [
    "Then sum row-wise"
   ]
  },
  {
   "cell_type": "code",
   "execution_count": 110,
   "metadata": {},
   "outputs": [],
   "source": [
    "d = d.sum(axis=1)"
   ]
  },
  {
   "cell_type": "markdown",
   "metadata": {},
   "source": [
    "We only need the numeric values here, so we convert `d` to a list"
   ]
  },
  {
   "cell_type": "code",
   "execution_count": 111,
   "metadata": {},
   "outputs": [],
   "source": [
    "d = d.to_list()"
   ]
  },
  {
   "cell_type": "markdown",
   "metadata": {},
   "source": [
    "Create a new data frame with two columns, which will be our dataset:"
   ]
  },
  {
   "cell_type": "code",
   "execution_count": 112,
   "metadata": {},
   "outputs": [],
   "source": [
    "dataset = pd.DataFrame(columns=['ds', 'y'])"
   ]
  },
  {
   "cell_type": "markdown",
   "metadata": {},
   "source": [
    "Get the dates from the columns in `deaths_df` data frame, starting from the fifth column. They will be obtained in string format."
   ]
  },
  {
   "cell_type": "code",
   "execution_count": 113,
   "metadata": {},
   "outputs": [],
   "source": [
    "dates = list(deaths_df.columns[4:])"
   ]
  },
  {
   "cell_type": "markdown",
   "metadata": {},
   "source": [
    "Convert the string dates into the datetime format, so that we can perform datetime operations on them"
   ]
  },
  {
   "cell_type": "code",
   "execution_count": 114,
   "metadata": {},
   "outputs": [],
   "source": [
    "dates = list(pd.to_datetime(dates))"
   ]
  },
  {
   "cell_type": "markdown",
   "metadata": {},
   "source": [
    "Now, assign the dates and deaths data to the columns in the new dataframe:"
   ]
  },
  {
   "cell_type": "code",
   "execution_count": 115,
   "metadata": {},
   "outputs": [],
   "source": [
    "dataset['ds'] = dates\n",
    "dataset['y'] =d "
   ]
  },
  {
   "cell_type": "markdown",
   "metadata": {},
   "source": [
    "We will need to have only 1 data column, y, with the index being ds"
   ]
  },
  {
   "cell_type": "code",
   "execution_count": 116,
   "metadata": {},
   "outputs": [],
   "source": [
    "dataset = dataset.set_index('ds')"
   ]
  },
  {
   "cell_type": "markdown",
   "metadata": {},
   "source": [
    "Let's plot the daily number of deaths\n"
   ]
  },
  {
   "cell_type": "code",
   "execution_count": 117,
   "metadata": {},
   "outputs": [
    {
     "data": {
      "image/png": "[encoded data removed]",
      "text/plain": [
       "<Figure size 720x720 with 1 Axes>"
      ]
     },
     "metadata": {
      "needs_background": "light"
     },
     "output_type": "display_data"
    }
   ],
   "source": [
    "plt.figure(figsize=(10,10))\n",
    "plt.plot(dataset)\n",
    "plt.savefig('Cummulative daily deaths', bbox_inches = 'tight', transparent= False)"
   ]
  },
  {
   "cell_type": "markdown",
   "metadata": {},
   "source": [
    "and let's see how the daily increase looks like. To do this, we will use the `diff` method from the Dataframe object."
   ]
  },
  {
   "cell_type": "code",
   "execution_count": 118,
   "metadata": {},
   "outputs": [
    {
     "data": {
      "image/png": "[encoded data removed]",
      "text/plain": [
       "<Figure size 720x720 with 1 Axes>"
      ]
     },
     "metadata": {
      "needs_background": "light"
     },
     "output_type": "display_data"
    }
   ],
   "source": [
    "plt.figure(figsize=(10,10))\n",
    "plt.plot(dataset.diff())\n",
    "plt.savefig('Daily deaths', bbox_inches = 'tight', transparent=False)"
   ]
  },
  {
   "cell_type": "markdown",
   "metadata": {},
   "source": [
    "In this project, we are going to analyze the daily reported deaths"
   ]
  },
  {
   "cell_type": "code",
   "execution_count": 119,
   "metadata": {},
   "outputs": [],
   "source": [
    "dataset = dataset.diff()"
   ]
  },
  {
   "cell_type": "markdown",
   "metadata": {},
   "source": [
    "We need to remove the first data point here, which will be a None value"
   ]
  },
  {
   "cell_type": "code",
   "execution_count": 120,
   "metadata": {},
   "outputs": [],
   "source": [
    "dataset = dataset.loc['2020-01-23': '2020-08-13']"
   ]
  },
  {
   "cell_type": "markdown",
   "metadata": {},
   "source": [
    "# Task 2: Forcasting using SARIMAX, or Seasonal AutoRegressive Integrated Moving Average with eXogenous regressors model"
   ]
  },
  {
   "cell_type": "markdown",
   "metadata": {},
   "source": [
    "SARIMAX is one of the time series models in the python statistics library statsmodels."
   ]
  },
  {
   "cell_type": "markdown",
   "metadata": {},
   "source": [
    "But before we apply the model, we will split our dataset into a training and test sets. We will do this by taking all dates prior to 31st of July as training set, on which the model will be optimized, and all dates from 31st July as the test set, on which we will test the accuracy of the predictions that the optimized model will make."
   ]
  },
  {
   "cell_type": "code",
   "execution_count": 121,
   "metadata": {},
   "outputs": [],
   "source": [
    "start_date = '2020-07-31'\n",
    "\n",
    "train = dataset.loc[dataset.index < pd.to_datetime(start_date)]\n",
    "test = dataset.loc[dataset.index >= pd.to_datetime(start_date)]"
   ]
  },
  {
   "cell_type": "markdown",
   "metadata": {},
   "source": [
    "Now let's talk about SARIMAX. There are three hyperparameters that go into the order tuple: p, q and d. Here we've used p=2, q=1 and d=3."
   ]
  },
  {
   "cell_type": "code",
   "execution_count": 122,
   "metadata": {},
   "outputs": [],
   "source": [
    "model = SARIMAX(train, order=(2,1,3))"
   ]
  },
  {
   "cell_type": "markdown",
   "metadata": {},
   "source": [
    "Next, we call the fit method to optimize the model."
   ]
  },
  {
   "cell_type": "code",
   "execution_count": 123,
   "metadata": {},
   "outputs": [],
   "source": [
    "results = model.fit(disp=True)"
   ]
  },
  {
   "cell_type": "markdown",
   "metadata": {},
   "source": [
    "Now let's make predictions using the model, and compare those against the values in the test set."
   ]
  },
  {
   "cell_type": "code",
   "execution_count": 124,
   "metadata": {},
   "outputs": [
    {
     "data": {
      "image/png": "[encoded data removed]",
      "text/plain": [
       "<Figure size 720x360 with 1 Axes>"
      ]
     },
     "metadata": {
      "needs_background": "light"
     },
     "output_type": "display_data"
    }
   ],
   "source": [
    "sarimax_prediction = results.predict(\n",
    "    start=start_date, end='2020-08-13', dynamic=False)\n",
    "plt.figure(figsize=(10,5))\n",
    "l1, =plt.plot(dataset, label='Observation')\n",
    "l2, =plt.plot(sarimax_prediction, label ='ARIMA')\n",
    "plt.legend(handles=[l1,l2])\n",
    "plt.savefig('SARIMAX prediction', bbox_inches='tight', transparent=False)"
   ]
  },
  {
   "cell_type": "markdown",
   "metadata": {},
   "source": [
    "Since that we are interested in comparing between the different time series analysis approaches, we are going to use one of the validation measures: mean absolute error."
   ]
  },
  {
   "cell_type": "code",
   "execution_count": 125,
   "metadata": {},
   "outputs": [
    {
     "name": "stdout",
     "output_type": "stream",
     "text": [
      "SARIMAX MAE =  650.6157483614192\n"
     ]
    }
   ],
   "source": [
    "print('SARIMAX MAE = ', mean_absolute_error(sarimax_prediction, test))"
   ]
  },
  {
   "cell_type": "markdown",
   "metadata": {},
   "source": [
    "However, in a typical machine learning workflow, we should find the best values of p, q and r that will minimize the error. We can use the auto_arima function in the pmdarima module to do that. This will find the optimal parameter combintation and return the best model.\n"
   ]
  },
  {
   "cell_type": "code",
   "execution_count": 126,
   "metadata": {},
   "outputs": [
    {
     "name": "stdout",
     "output_type": "stream",
     "text": [
      "Performing stepwise search to minimize aic\n",
      " ARIMA(1,1,1)(0,0,0)[0] intercept   : AIC=3111.971, Time=0.49 sec\n",
      " ARIMA(0,1,0)(0,0,0)[0] intercept   : AIC=3132.320, Time=0.02 sec\n",
      " ARIMA(1,1,0)(0,0,0)[0] intercept   : AIC=3133.730, Time=0.03 sec\n",
      " ARIMA(0,1,1)(0,0,0)[0] intercept   : AIC=3133.267, Time=0.04 sec\n",
      " ARIMA(0,1,0)(0,0,0)[0]             : AIC=3130.535, Time=0.01 sec\n",
      " ARIMA(2,1,1)(0,0,0)[0] intercept   : AIC=3099.418, Time=0.54 sec\n",
      " ARIMA(2,1,0)(0,0,0)[0] intercept   : AIC=3128.118, Time=0.05 sec\n",
      " ARIMA(3,1,1)(0,0,0)[0] intercept   : AIC=3089.597, Time=0.60 sec\n",
      " ARIMA(3,1,0)(0,0,0)[0] intercept   : AIC=3116.490, Time=0.07 sec\n",
      " ARIMA(3,1,2)(0,0,0)[0] intercept   : AIC=3043.804, Time=0.99 sec\n",
      " ARIMA(2,1,2)(0,0,0)[0] intercept   : AIC=3040.433, Time=0.82 sec\n",
      " ARIMA(1,1,2)(0,0,0)[0] intercept   : AIC=3106.295, Time=0.67 sec\n",
      " ARIMA(2,1,3)(0,0,0)[0] intercept   : AIC=3025.719, Time=1.10 sec\n",
      " ARIMA(1,1,3)(0,0,0)[0] intercept   : AIC=3105.847, Time=0.59 sec\n",
      " ARIMA(3,1,3)(0,0,0)[0] intercept   : AIC=3032.873, Time=1.01 sec\n",
      " ARIMA(2,1,3)(0,0,0)[0]             : AIC=3024.848, Time=0.73 sec\n",
      " ARIMA(1,1,3)(0,0,0)[0]             : AIC=inf, Time=0.47 sec\n",
      " ARIMA(2,1,2)(0,0,0)[0]             : AIC=inf, Time=0.33 sec\n",
      " ARIMA(3,1,3)(0,0,0)[0]             : AIC=3034.045, Time=0.80 sec\n",
      " ARIMA(1,1,2)(0,0,0)[0]             : AIC=3106.064, Time=0.20 sec\n",
      " ARIMA(3,1,2)(0,0,0)[0]             : AIC=3030.660, Time=0.67 sec\n",
      "\n",
      "Best model:  ARIMA(2,1,3)(0,0,0)[0]          \n",
      "Total fit time: 10.293 seconds\n",
      "                               SARIMAX Results                                \n",
      "==============================================================================\n",
      "Dep. Variable:                      y   No. Observations:                  190\n",
      "Model:               SARIMAX(2, 1, 3)   Log Likelihood               -1506.424\n",
      "Date:                Thu, 24 Dec 2020   AIC                           3024.848\n",
      "Time:                        11:52:41   BIC                           3044.299\n",
      "Sample:                             0   HQIC                          3032.728\n",
      "                                - 190                                         \n",
      "Covariance Type:                  opg                                         \n",
      "==============================================================================\n",
      "                 coef    std err          z      P>|z|      [0.025      0.975]\n",
      "------------------------------------------------------------------------------\n",
      "ar.L1          1.2434      0.017     72.420      0.000       1.210       1.277\n",
      "ar.L2         -0.9796      0.019    -51.206      0.000      -1.017      -0.942\n",
      "ma.L1         -1.7687      0.065    -27.195      0.000      -1.896      -1.641\n",
      "ma.L2          1.4753      0.097     15.266      0.000       1.286       1.665\n",
      "ma.L3         -0.3939      0.064     -6.141      0.000      -0.520      -0.268\n",
      "sigma2      4.964e+05   3.61e+04     13.749      0.000    4.26e+05    5.67e+05\n",
      "===================================================================================\n",
      "Ljung-Box (Q):                      208.46   Jarque-Bera (JB):                95.44\n",
      "Prob(Q):                              0.00   Prob(JB):                         0.00\n",
      "Heteroskedasticity (H):              13.70   Skew:                             0.67\n",
      "Prob(H) (two-sided):                  0.00   Kurtosis:                         6.22\n",
      "===================================================================================\n",
      "\n",
      "Warnings:\n",
      "[1] Covariance matrix calculated using the outer product of gradients (complex-step).\n"
     ]
    }
   ],
   "source": [
    "model = pm.auto_arima(train, start_p=1, start_q=1,\n",
    "                      test='adf',       # use adftest to find optimal 'd'\n",
    "                      max_p=3, max_q=3,  # maximum p and q\n",
    "                      m=1,              # frequency of series\n",
    "                      d=None,           # let model determine 'd'\n",
    "                      seasonal=False,   # No Seasonality\n",
    "                      start_P=0,\n",
    "                      D=0,\n",
    "                      trace=True,\n",
    "                      error_action='ignore',\n",
    "                      suppress_warnings=True,\n",
    "                      stepwise=True)\n",
    "\n",
    "print(model.summary())"
   ]
  },
  {
   "cell_type": "markdown",
   "metadata": {},
   "source": [
    "Note that this gives us the best mode here: \"Best model:  SARIMAX(2,2,3)(0,0,0)[0]\""
   ]
  },
  {
   "cell_type": "markdown",
   "metadata": {},
   "source": [
    "# Task 3: Forcasting using Facebook's Prophet model"
   ]
  },
  {
   "cell_type": "markdown",
   "metadata": {},
   "source": [
    "This is the open source time series library released by Facebook. It is also widely used by Facebook in their own time series analysis tasks. Facebook prophet does not require that you specify or search for hyperparameters. The model can act as a black box that does all the required computations on its own. And it works with the same object-fit-predict API.\n",
    "\n",
    "Prophet expects the data frame to have 2 columns, unlike SARIMAX."
   ]
  },
  {
   "cell_type": "code",
   "execution_count": 127,
   "metadata": {},
   "outputs": [],
   "source": [
    "train['ds'] = train.index.values"
   ]
  },
  {
   "cell_type": "markdown",
   "metadata": {},
   "source": [
    "Then we create a new Prophet object and call the `fit()` method"
   ]
  },
  {
   "cell_type": "code",
   "execution_count": 128,
   "metadata": {},
   "outputs": [
    {
     "name": "stderr",
     "output_type": "stream",
     "text": [
      "INFO:fbprophet:Disabling yearly seasonality. Run prophet with yearly_seasonality=True to override this.\n",
      "INFO:fbprophet:Disabling daily seasonality. Run prophet with daily_seasonality=True to override this.\n"
     ]
    },
    {
     "data": {
      "text/plain": [
       "<fbprophet.forecaster.Prophet at 0x7f28cd548898>"
      ]
     },
     "execution_count": 128,
     "metadata": {},
     "output_type": "execute_result"
    }
   ],
   "source": [
    "m = Prophet()\n",
    "m.fit(train)"
   ]
  },
  {
   "cell_type": "markdown",
   "metadata": {},
   "source": [
    "Now let's forecast:"
   ]
  },
  {
   "cell_type": "code",
   "execution_count": 129,
   "metadata": {},
   "outputs": [],
   "source": [
    "future = m.make_future_dataframe(periods=dataset.shape[0]-train.shape[0])\n",
    "prophet_prediction = m.predict(future)"
   ]
  },
  {
   "cell_type": "markdown",
   "metadata": {},
   "source": [
    "Now let us calculate the mean absolute error for our predictions."
   ]
  },
  {
   "cell_type": "code",
   "execution_count": 130,
   "metadata": {},
   "outputs": [
    {
     "name": "stdout",
     "output_type": "stream",
     "text": [
      "Prophet MAE =  572.5555342749124\n"
     ]
    }
   ],
   "source": [
    "prophet_prediction = prophet_prediction.set_index('ds')\n",
    "prophet_future = prophet_prediction.yhat.loc[prophet_prediction.index >= start_date]\n",
    "print('Prophet MAE = ', mean_absolute_error(prophet_future, test))"
   ]
  },
  {
   "cell_type": "markdown",
   "metadata": {},
   "source": [
    "Next, let's visualize the predictions."
   ]
  },
  {
   "cell_type": "code",
   "execution_count": 139,
   "metadata": {},
   "outputs": [
    {
     "data": {
      "image/png": "[encoded data removed]",
      "text/plain": [
       "<Figure size 720x360 with 1 Axes>"
      ]
     },
     "metadata": {
      "needs_background": "light"
     },
     "output_type": "display_data"
    }
   ],
   "source": [
    "plt.figure(figsize=(10,5))\n",
    "l1, =plt.plot(dataset, label='Observation')\n",
    "l2, =plt.plot(sarimax_prediction, label ='ARIMA')\n",
    "plt.legend(handles=[l1,l2])\n",
    "plt.savefig('SARIMAX prediction', bbox_inches='tight', transparent=False)"
   ]
  },
  {
   "cell_type": "markdown",
   "metadata": {},
   "source": [
    "# Task 4: Preparing the dataset for XGBOOST and NN"
   ]
  },
  {
   "cell_type": "markdown",
   "metadata": {},
   "source": [
    "Unlike the prophet and SAIMAX models, the two models we will train in Task 6, namely XGBOOST and NN, are supervised machine learning models that deal with independent data points, or examples. It assumes that each data point is totally independent from the rest of the data points in the dataset.\n",
    "\n",
    "Here is a method that extracts these features from a given dataframe object."
   ]
  },
  {
   "cell_type": "code",
   "execution_count": 140,
   "metadata": {},
   "outputs": [
    {
     "data": {
      "text/html": [
       "<div>\n",
       "<style scoped>\n",
       "    .dataframe tbody tr th:only-of-type {\n",
       "        vertical-align: middle;\n",
       "    }\n",
       "\n",
       "    .dataframe tbody tr th {\n",
       "        vertical-align: top;\n",
       "    }\n",
       "\n",
       "    .dataframe thead th {\n",
       "        text-align: right;\n",
       "    }\n",
       "</style>\n",
       "<table border=\"1\" class=\"dataframe\">\n",
       "  <thead>\n",
       "    <tr style=\"text-align: right;\">\n",
       "      <th></th>\n",
       "      <th>day</th>\n",
       "      <th>month</th>\n",
       "      <th>quarter</th>\n",
       "      <th>dayofweek</th>\n",
       "      <th>dayofyear</th>\n",
       "      <th>weekofyear</th>\n",
       "    </tr>\n",
       "  </thead>\n",
       "  <tbody>\n",
       "    <tr>\n",
       "      <th>0</th>\n",
       "      <td>23</td>\n",
       "      <td>1</td>\n",
       "      <td>1</td>\n",
       "      <td>3</td>\n",
       "      <td>23</td>\n",
       "      <td>4</td>\n",
       "    </tr>\n",
       "    <tr>\n",
       "      <th>1</th>\n",
       "      <td>24</td>\n",
       "      <td>1</td>\n",
       "      <td>1</td>\n",
       "      <td>4</td>\n",
       "      <td>24</td>\n",
       "      <td>4</td>\n",
       "    </tr>\n",
       "    <tr>\n",
       "      <th>2</th>\n",
       "      <td>25</td>\n",
       "      <td>1</td>\n",
       "      <td>1</td>\n",
       "      <td>5</td>\n",
       "      <td>25</td>\n",
       "      <td>4</td>\n",
       "    </tr>\n",
       "    <tr>\n",
       "      <th>3</th>\n",
       "      <td>26</td>\n",
       "      <td>1</td>\n",
       "      <td>1</td>\n",
       "      <td>6</td>\n",
       "      <td>26</td>\n",
       "      <td>4</td>\n",
       "    </tr>\n",
       "    <tr>\n",
       "      <th>4</th>\n",
       "      <td>27</td>\n",
       "      <td>1</td>\n",
       "      <td>1</td>\n",
       "      <td>0</td>\n",
       "      <td>27</td>\n",
       "      <td>5</td>\n",
       "    </tr>\n",
       "  </tbody>\n",
       "</table>\n",
       "</div>"
      ],
      "text/plain": [
       "   day  month  quarter  dayofweek  dayofyear  weekofyear\n",
       "0   23      1        1          3         23           4\n",
       "1   24      1        1          4         24           4\n",
       "2   25      1        1          5         25           4\n",
       "3   26      1        1          6         26           4\n",
       "4   27      1        1          0         27           5"
      ]
     },
     "execution_count": 140,
     "metadata": {},
     "output_type": "execute_result"
    }
   ],
   "source": [
    " def featurize(t):\n",
    "    X = pd.DataFrame()\n",
    "    \n",
    "    X['day'] = t.index.day\n",
    "    X['month'] = t.index.month\n",
    "    X['quarter'] = t.index.quarter\n",
    "    X['dayofweek'] = t.index.dayofweek\n",
    "    X['dayofyear']  = t.index.dayofyear\n",
    "    X['weekofyear'] = t.index.weekofyear\n",
    "    y = t.y\n",
    "    return X, y\n",
    " \n",
    "featurize(dataset)[0].head()"
   ]
  },
  {
   "cell_type": "code",
   "execution_count": null,
   "metadata": {},
   "outputs": [],
   "source": []
  },
  {
   "cell_type": "markdown",
   "metadata": {},
   "source": [
    "# Task 5: Create training and test datasets by splitting the dataset, and perform data normalization."
   ]
  },
  {
   "cell_type": "markdown",
   "metadata": {},
   "source": [
    "In this task we are going to cover two topics in data preparation: splitting the dataset into training and test data, and normalizing the data.\n",
    "\n",
    "You might have already performed a splitting operation of a dataset in machine learning, where one takes a randomly selected portion of the dataset, say 20%, as a test set, while the remaining 80% is the training set. It is randomly selected because the whole dataset is randomly shufflled before the selection. Another popular approach is the k-fold cross validation.\n",
    "\n",
    "However, those two methods won't work with time series data. The reason is: when we train the model on the training set, the purpose is to predict the target values in the future, which corresponds to date values that are outside of the date values in the training set."
   ]
  },
  {
   "cell_type": "code",
   "execution_count": 141,
   "metadata": {},
   "outputs": [],
   "source": [
    "X_train, y_train = featurize(\n",
    "    dataset.loc[dataset.index < pd.to_datetime(start_date)])\n",
    "X_test, y_test = featurize(\n",
    "    dataset.loc[dataset.index >= pd.to_datetime(start_date)])"
   ]
  },
  {
   "cell_type": "markdown",
   "metadata": {},
   "source": [
    "Now let's discuss data normalization. We perform data normalization so as to make the range of values of the features, or the columns in the X_train table, as close as possible. For example, we have the features dayofweek and dayofyear. The range of values of dayofweek is from 1 to 7, whereas dayofyear is from 1 to 365. Having such large differences in the ranges of values will either slow down the training of the machine learning model or make it quite difficult. We solve this problem by applying normalization. There are several ways we can normalize the data with. Here I will choose the StandardScaler, which applies the following equation on each of the columns.\n",
    "\n",
    "z = (x - u) / s\n",
    "\n",
    "Here x is the column before scaling, u is thee mean and s is the standard deviation. So basically, we subtract the mean of each column from itself, then divide by the standard deviation of that column. To apply StandardScaler, we first fit the scaler object to the dataset:\n"
   ]
  },
  {
   "cell_type": "code",
   "execution_count": 142,
   "metadata": {},
   "outputs": [
    {
     "data": {
      "text/plain": [
       "StandardScaler()"
      ]
     },
     "execution_count": 142,
     "metadata": {},
     "output_type": "execute_result"
    }
   ],
   "source": [
    "scaler = StandardScaler()\n",
    "scaler.fit(X_train)"
   ]
  },
  {
   "cell_type": "markdown",
   "metadata": {},
   "source": [
    "Apply the scaling to both the training and test sets, as follows."
   ]
  },
  {
   "cell_type": "code",
   "execution_count": 143,
   "metadata": {},
   "outputs": [],
   "source": [
    "scaled_train = scaler.transform(X_train)\n",
    "scaled_test = scaler.transform(X_test)"
   ]
  },
  {
   "cell_type": "markdown",
   "metadata": {},
   "source": [
    "# Task 6: Train the XGBOOST and NN models"
   ]
  },
  {
   "cell_type": "markdown",
   "metadata": {},
   "source": [
    "First, create the XGBRegressor object which will represent the XGBOOST regression model."
   ]
  },
  {
   "cell_type": "code",
   "execution_count": 149,
   "metadata": {},
   "outputs": [],
   "source": [
    "XGBOOST_model = XGBRegressor(n_estimators=10)"
   ]
  },
  {
   "cell_type": "markdown",
   "metadata": {},
   "source": [
    "Next, train the XGBOOST regression model using the fit method, and perform prediction using the predict method."
   ]
  },
  {
   "cell_type": "code",
   "execution_count": 153,
   "metadata": {},
   "outputs": [
    {
     "name": "stdout",
     "output_type": "stream",
     "text": [
      "[0]\tvalidation_0-rmse:3121.15405\tvalidation_1-rmse:4338.40674\n",
      "[1]\tvalidation_0-rmse:2264.95044\tvalidation_1-rmse:3135.70386\n",
      "[2]\tvalidation_0-rmse:1665.83826\tvalidation_1-rmse:2322.55371\n",
      "[3]\tvalidation_0-rmse:1241.47046\tvalidation_1-rmse:1676.83875\n",
      "[4]\tvalidation_0-rmse:942.85718\tvalidation_1-rmse:1199.80676\n",
      "[5]\tvalidation_0-rmse:732.31842\tvalidation_1-rmse:765.99835\n",
      "[6]\tvalidation_0-rmse:582.53577\tvalidation_1-rmse:501.29828\n",
      "[7]\tvalidation_0-rmse:472.67627\tvalidation_1-rmse:667.14893\n",
      "[8]\tvalidation_0-rmse:394.62479\tvalidation_1-rmse:765.89960\n",
      "[9]\tvalidation_0-rmse:338.00449\tvalidation_1-rmse:1083.99853\n"
     ]
    }
   ],
   "source": [
    "XGBOOST_model.fit(scaled_train, y_train,\n",
    "                eval_set =[(scaled_train, y_train), (scaled_test, y_test)],\n",
    "                verbose=True)\n",
    "XGBOOST_prediction = XGBOOST_model.predict(scaled_test)"
   ]
  },
  {
   "cell_type": "markdown",
   "metadata": {},
   "source": [
    "Let us calculate the mean absolute error for the training."
   ]
  },
  {
   "cell_type": "code",
   "execution_count": 154,
   "metadata": {},
   "outputs": [
    {
     "name": "stdout",
     "output_type": "stream",
     "text": [
      "XGBOOST MAE = 951.46875\n"
     ]
    }
   ],
   "source": [
    "print('XGBOOST MAE =', mean_absolute_error(XGBOOST_prediction, y_test))"
   ]
  },
  {
   "cell_type": "markdown",
   "metadata": {},
   "source": [
    "Creation and training of the feedforward neural network model."
   ]
  },
  {
   "cell_type": "code",
   "execution_count": 158,
   "metadata": {},
   "outputs": [
    {
     "name": "stdout",
     "output_type": "stream",
     "text": [
      "Epoch 1/220\n",
      "6/6 [==============================] - 0s 27ms/step - loss: 3521.5249 - val_loss: 5794.5435\n",
      "Epoch 2/220\n",
      "6/6 [==============================] - 0s 6ms/step - loss: 3521.4536 - val_loss: 5794.5156\n",
      "Epoch 3/220\n",
      "6/6 [==============================] - 0s 7ms/step - loss: 3521.3833 - val_loss: 5794.4321\n",
      "Epoch 4/220\n",
      "6/6 [==============================] - 0s 6ms/step - loss: 3521.3135 - val_loss: 5794.4150\n",
      "Epoch 5/220\n",
      "6/6 [==============================] - 0s 7ms/step - loss: 3521.2378 - val_loss: 5794.3369\n",
      "Epoch 6/220\n",
      "6/6 [==============================] - 0s 9ms/step - loss: 3521.1616 - val_loss: 5794.2329\n",
      "Epoch 7/220\n",
      "6/6 [==============================] - 0s 7ms/step - loss: 3521.0823 - val_loss: 5794.1069\n",
      "Epoch 8/220\n",
      "6/6 [==============================] - 0s 6ms/step - loss: 3520.9968 - val_loss: 5793.9897\n",
      "Epoch 9/220\n",
      "6/6 [==============================] - 0s 7ms/step - loss: 3520.9050 - val_loss: 5793.8550\n",
      "Epoch 10/220\n",
      "6/6 [==============================] - 0s 6ms/step - loss: 3520.8069 - val_loss: 5793.7095\n",
      "Epoch 11/220\n",
      "6/6 [==============================] - 0s 8ms/step - loss: 3520.7007 - val_loss: 5793.5635\n",
      "Epoch 12/220\n",
      "6/6 [==============================] - 0s 7ms/step - loss: 3520.5823 - val_loss: 5793.3682\n",
      "Epoch 13/220\n",
      "6/6 [==============================] - 0s 8ms/step - loss: 3520.4526 - val_loss: 5793.2500\n",
      "Epoch 14/220\n",
      "6/6 [==============================] - 0s 6ms/step - loss: 3520.3098 - val_loss: 5792.9961\n",
      "Epoch 15/220\n",
      "6/6 [==============================] - 0s 5ms/step - loss: 3520.1494 - val_loss: 5792.8125\n",
      "Epoch 16/220\n",
      "6/6 [==============================] - 0s 7ms/step - loss: 3519.9766 - val_loss: 5792.5591\n",
      "Epoch 17/220\n",
      "6/6 [==============================] - 0s 5ms/step - loss: 3519.7795 - val_loss: 5792.1206\n",
      "Epoch 18/220\n",
      "6/6 [==============================] - 0s 6ms/step - loss: 3519.5635 - val_loss: 5791.7070\n",
      "Epoch 19/220\n",
      "6/6 [==============================] - 0s 9ms/step - loss: 3519.3240 - val_loss: 5791.2109\n",
      "Epoch 20/220\n",
      "6/6 [==============================] - 0s 7ms/step - loss: 3519.0618 - val_loss: 5790.5474\n",
      "Epoch 21/220\n",
      "6/6 [==============================] - 0s 6ms/step - loss: 3518.7729 - val_loss: 5789.8081\n",
      "Epoch 22/220\n",
      "6/6 [==============================] - 0s 8ms/step - loss: 3518.4470 - val_loss: 5789.0674\n",
      "Epoch 23/220\n",
      "6/6 [==============================] - 0s 9ms/step - loss: 3518.0872 - val_loss: 5788.2729\n",
      "Epoch 24/220\n",
      "6/6 [==============================] - 0s 10ms/step - loss: 3517.6919 - val_loss: 5787.5698\n",
      "Epoch 25/220\n",
      "6/6 [==============================] - 0s 6ms/step - loss: 3517.2659 - val_loss: 5786.7852\n",
      "Epoch 26/220\n",
      "6/6 [==============================] - 0s 8ms/step - loss: 3516.7974 - val_loss: 5785.7163\n",
      "Epoch 27/220\n",
      "6/6 [==============================] - 0s 8ms/step - loss: 3516.2820 - val_loss: 5784.6753\n",
      "Epoch 28/220\n",
      "6/6 [==============================] - 0s 6ms/step - loss: 3515.7180 - val_loss: 5783.5869\n",
      "Epoch 29/220\n",
      "6/6 [==============================] - 0s 5ms/step - loss: 3515.1099 - val_loss: 5782.4038\n",
      "Epoch 30/220\n",
      "6/6 [==============================] - 0s 5ms/step - loss: 3514.4509 - val_loss: 5780.8433\n",
      "Epoch 31/220\n",
      "6/6 [==============================] - 0s 5ms/step - loss: 3513.7434 - val_loss: 5779.1040\n",
      "Epoch 32/220\n",
      "6/6 [==============================] - 0s 4ms/step - loss: 3512.9619 - val_loss: 5777.2510\n",
      "Epoch 33/220\n",
      "6/6 [==============================] - 0s 8ms/step - loss: 3512.1221 - val_loss: 5775.2959\n",
      "Epoch 34/220\n",
      "6/6 [==============================] - 0s 7ms/step - loss: 3511.2280 - val_loss: 5773.2368\n",
      "Epoch 35/220\n",
      "6/6 [==============================] - 0s 6ms/step - loss: 3510.2781 - val_loss: 5770.5806\n",
      "Epoch 36/220\n",
      "6/6 [==============================] - 0s 8ms/step - loss: 3509.2261 - val_loss: 5767.9487\n",
      "Epoch 37/220\n",
      "6/6 [==============================] - 0s 7ms/step - loss: 3508.1135 - val_loss: 5765.2427\n",
      "Epoch 38/220\n",
      "6/6 [==============================] - 0s 6ms/step - loss: 3506.9290 - val_loss: 5762.1807\n",
      "Epoch 39/220\n",
      "6/6 [==============================] - 0s 7ms/step - loss: 3505.6724 - val_loss: 5759.0703\n",
      "Epoch 40/220\n",
      "6/6 [==============================] - 0s 9ms/step - loss: 3504.3193 - val_loss: 5756.2456\n",
      "Epoch 41/220\n",
      "6/6 [==============================] - 0s 5ms/step - loss: 3502.9148 - val_loss: 5752.5791\n",
      "Epoch 42/220\n",
      "6/6 [==============================] - 0s 5ms/step - loss: 3501.4060 - val_loss: 5749.5010\n",
      "Epoch 43/220\n",
      "6/6 [==============================] - 0s 5ms/step - loss: 3499.8501 - val_loss: 5745.3774\n",
      "Epoch 44/220\n",
      "6/6 [==============================] - 0s 6ms/step - loss: 3498.1184 - val_loss: 5741.8276\n",
      "Epoch 45/220\n",
      "6/6 [==============================] - 0s 6ms/step - loss: 3496.3958 - val_loss: 5737.3853\n",
      "Epoch 46/220\n",
      "6/6 [==============================] - 0s 10ms/step - loss: 3494.5085 - val_loss: 5733.2749\n",
      "Epoch 47/220\n",
      "6/6 [==============================] - 0s 6ms/step - loss: 3492.5447 - val_loss: 5729.2588\n",
      "Epoch 48/220\n",
      "6/6 [==============================] - 0s 11ms/step - loss: 3490.4785 - val_loss: 5724.6011\n",
      "Epoch 49/220\n",
      "6/6 [==============================] - 0s 10ms/step - loss: 3488.3425 - val_loss: 5719.0928\n",
      "Epoch 50/220\n",
      "6/6 [==============================] - 0s 8ms/step - loss: 3486.1013 - val_loss: 5713.3252\n",
      "Epoch 51/220\n",
      "6/6 [==============================] - 0s 5ms/step - loss: 3483.7573 - val_loss: 5707.1978\n",
      "Epoch 52/220\n",
      "6/6 [==============================] - 0s 4ms/step - loss: 3481.2556 - val_loss: 5701.2891\n",
      "Epoch 53/220\n",
      "6/6 [==============================] - 0s 5ms/step - loss: 3478.6592 - val_loss: 5695.2031\n",
      "Epoch 54/220\n",
      "6/6 [==============================] - 0s 4ms/step - loss: 3475.9585 - val_loss: 5688.7188\n",
      "Epoch 55/220\n",
      "6/6 [==============================] - 0s 5ms/step - loss: 3473.2017 - val_loss: 5681.1797\n",
      "Epoch 56/220\n",
      "6/6 [==============================] - 0s 4ms/step - loss: 3470.2227 - val_loss: 5673.9141\n",
      "Epoch 57/220\n",
      "6/6 [==============================] - 0s 6ms/step - loss: 3467.1428 - val_loss: 5667.0728\n",
      "Epoch 58/220\n",
      "6/6 [==============================] - 0s 5ms/step - loss: 3464.0076 - val_loss: 5658.5933\n",
      "Epoch 59/220\n",
      "6/6 [==============================] - 0s 7ms/step - loss: 3460.6843 - val_loss: 5650.8906\n",
      "Epoch 60/220\n",
      "6/6 [==============================] - 0s 8ms/step - loss: 3457.3369 - val_loss: 5641.3779\n",
      "Epoch 61/220\n",
      "6/6 [==============================] - 0s 6ms/step - loss: 3453.6987 - val_loss: 5632.6392\n",
      "Epoch 62/220\n",
      "6/6 [==============================] - 0s 7ms/step - loss: 3450.0703 - val_loss: 5623.2710\n",
      "Epoch 63/220\n",
      "6/6 [==============================] - 0s 6ms/step - loss: 3446.1919 - val_loss: 5613.9956\n",
      "Epoch 64/220\n",
      "6/6 [==============================] - 0s 7ms/step - loss: 3442.3899 - val_loss: 5602.7100\n",
      "Epoch 65/220\n",
      "6/6 [==============================] - 0s 7ms/step - loss: 3438.1921 - val_loss: 5592.5005\n",
      "Epoch 66/220\n",
      "6/6 [==============================] - 0s 8ms/step - loss: 3433.8750 - val_loss: 5583.0278\n",
      "Epoch 67/220\n",
      "6/6 [==============================] - 0s 4ms/step - loss: 3429.6726 - val_loss: 5570.7959\n",
      "Epoch 68/220\n",
      "6/6 [==============================] - 0s 6ms/step - loss: 3425.0305 - val_loss: 5559.8794\n",
      "Epoch 69/220\n",
      "6/6 [==============================] - 0s 5ms/step - loss: 3420.4111 - val_loss: 5547.8188\n",
      "Epoch 70/220\n",
      "6/6 [==============================] - 0s 5ms/step - loss: 3415.6272 - val_loss: 5535.4448\n",
      "Epoch 71/220\n",
      "6/6 [==============================] - 0s 7ms/step - loss: 3410.6636 - val_loss: 5522.9648\n",
      "Epoch 72/220\n",
      "6/6 [==============================] - 0s 6ms/step - loss: 3405.5200 - val_loss: 5510.3037\n",
      "Epoch 73/220\n",
      "6/6 [==============================] - 0s 7ms/step - loss: 3400.2749 - val_loss: 5497.5347\n",
      "Epoch 74/220\n",
      "6/6 [==============================] - 0s 6ms/step - loss: 3394.9075 - val_loss: 5483.1475\n",
      "Epoch 75/220\n",
      "6/6 [==============================] - 0s 7ms/step - loss: 3389.4807 - val_loss: 5466.8867\n",
      "Epoch 76/220\n",
      "6/6 [==============================] - 0s 6ms/step - loss: 3383.5151 - val_loss: 5454.3086\n",
      "Epoch 77/220\n",
      "6/6 [==============================] - 0s 10ms/step - loss: 3377.9404 - val_loss: 5436.6597\n",
      "Epoch 78/220\n",
      "6/6 [==============================] - 0s 8ms/step - loss: 3371.7251 - val_loss: 5421.4165\n",
      "Epoch 79/220\n",
      "6/6 [==============================] - 0s 10ms/step - loss: 3365.5562 - val_loss: 5405.5654\n",
      "Epoch 80/220\n",
      "6/6 [==============================] - 0s 5ms/step - loss: 3359.0608 - val_loss: 5391.4595\n",
      "Epoch 81/220\n",
      "6/6 [==============================] - 0s 7ms/step - loss: 3352.5579 - val_loss: 5375.4731\n",
      "Epoch 82/220\n",
      "6/6 [==============================] - 0s 7ms/step - loss: 3345.9714 - val_loss: 5357.6768\n",
      "Epoch 83/220\n",
      "6/6 [==============================] - 0s 11ms/step - loss: 3339.0269 - val_loss: 5340.0391\n",
      "Epoch 84/220\n",
      "6/6 [==============================] - 0s 9ms/step - loss: 3332.2759 - val_loss: 5320.2041\n",
      "Epoch 85/220\n",
      "6/6 [==============================] - 0s 8ms/step - loss: 3324.7642 - val_loss: 5302.7852\n",
      "Epoch 86/220\n",
      "6/6 [==============================] - 0s 6ms/step - loss: 3317.3752 - val_loss: 5287.0078\n",
      "Epoch 87/220\n",
      "6/6 [==============================] - 0s 6ms/step - loss: 3309.9263 - val_loss: 5266.4155\n",
      "Epoch 88/220\n",
      "6/6 [==============================] - 0s 7ms/step - loss: 3302.4082 - val_loss: 5243.8481\n",
      "Epoch 89/220\n",
      "6/6 [==============================] - 0s 6ms/step - loss: 3294.2148 - val_loss: 5224.9736\n",
      "Epoch 90/220\n",
      "6/6 [==============================] - 0s 9ms/step - loss: 3286.1731 - val_loss: 5205.3940\n",
      "Epoch 91/220\n",
      "6/6 [==============================] - 0s 10ms/step - loss: 3277.9968 - val_loss: 5184.2007\n",
      "Epoch 92/220\n",
      "6/6 [==============================] - 0s 10ms/step - loss: 3269.3606 - val_loss: 5164.6694\n",
      "Epoch 93/220\n",
      "6/6 [==============================] - 0s 10ms/step - loss: 3261.1958 - val_loss: 5140.1880\n",
      "Epoch 94/220\n",
      "6/6 [==============================] - 0s 7ms/step - loss: 3252.1431 - val_loss: 5116.7134\n",
      "Epoch 95/220\n",
      "6/6 [==============================] - 0s 7ms/step - loss: 3243.1411 - val_loss: 5095.1558\n",
      "Epoch 96/220\n",
      "6/6 [==============================] - 0s 7ms/step - loss: 3233.9600 - val_loss: 5074.4175\n",
      "Epoch 97/220\n",
      "6/6 [==============================] - 0s 6ms/step - loss: 3224.8611 - val_loss: 5048.7144\n",
      "Epoch 98/220\n",
      "6/6 [==============================] - 0s 5ms/step - loss: 3215.2437 - val_loss: 5024.9028\n",
      "Epoch 99/220\n",
      "6/6 [==============================] - 0s 6ms/step - loss: 3205.3123 - val_loss: 5002.7646\n",
      "Epoch 100/220\n",
      "6/6 [==============================] - 0s 10ms/step - loss: 3195.5950 - val_loss: 4979.2466\n",
      "Epoch 101/220\n",
      "6/6 [==============================] - 0s 11ms/step - loss: 3185.5637 - val_loss: 4952.1997\n",
      "Epoch 102/220\n",
      "6/6 [==============================] - 0s 6ms/step - loss: 3175.3237 - val_loss: 4922.7930\n",
      "Epoch 103/220\n",
      "6/6 [==============================] - 0s 7ms/step - loss: 3164.6533 - val_loss: 4895.3306\n",
      "Epoch 104/220\n",
      "6/6 [==============================] - 0s 8ms/step - loss: 3153.9478 - val_loss: 4867.9575\n",
      "Epoch 105/220\n",
      "6/6 [==============================] - 0s 5ms/step - loss: 3143.1152 - val_loss: 4840.1992\n",
      "Epoch 106/220\n",
      "6/6 [==============================] - 0s 9ms/step - loss: 3132.4927 - val_loss: 4808.6743\n",
      "Epoch 107/220\n",
      "6/6 [==============================] - 0s 9ms/step - loss: 3121.3647 - val_loss: 4776.6094\n",
      "Epoch 108/220\n",
      "6/6 [==============================] - 0s 8ms/step - loss: 3109.0237 - val_loss: 4754.8740\n",
      "Epoch 109/220\n",
      "6/6 [==============================] - 0s 6ms/step - loss: 3097.6619 - val_loss: 4727.3833\n",
      "Epoch 110/220\n",
      "6/6 [==============================] - 0s 7ms/step - loss: 3085.6636 - val_loss: 4695.6938\n",
      "Epoch 111/220\n",
      "6/6 [==============================] - 0s 5ms/step - loss: 3073.9167 - val_loss: 4661.7979\n",
      "Epoch 112/220\n",
      "6/6 [==============================] - 0s 7ms/step - loss: 3061.5093 - val_loss: 4628.5029\n",
      "Epoch 113/220\n",
      "6/6 [==============================] - 0s 6ms/step - loss: 3048.9277 - val_loss: 4595.8804\n",
      "Epoch 114/220\n",
      "6/6 [==============================] - 0s 7ms/step - loss: 3036.0154 - val_loss: 4564.8843\n",
      "Epoch 115/220\n",
      "6/6 [==============================] - 0s 10ms/step - loss: 3023.2937 - val_loss: 4528.7383\n",
      "Epoch 116/220\n",
      "6/6 [==============================] - 0s 13ms/step - loss: 3010.1892 - val_loss: 4492.6714\n",
      "Epoch 117/220\n",
      "6/6 [==============================] - 0s 11ms/step - loss: 2996.6086 - val_loss: 4458.6514\n",
      "Epoch 118/220\n",
      "6/6 [==============================] - 0s 13ms/step - loss: 2982.8979 - val_loss: 4424.2769\n",
      "Epoch 119/220\n",
      "6/6 [==============================] - 0s 7ms/step - loss: 2969.0854 - val_loss: 4385.5259\n",
      "Epoch 120/220\n",
      "6/6 [==============================] - 0s 5ms/step - loss: 2955.0264 - val_loss: 4347.4736\n",
      "Epoch 121/220\n",
      "6/6 [==============================] - 0s 8ms/step - loss: 2941.1611 - val_loss: 4306.4263\n",
      "Epoch 122/220\n",
      "6/6 [==============================] - 0s 10ms/step - loss: 2926.5662 - val_loss: 4268.8042\n",
      "Epoch 123/220\n",
      "6/6 [==============================] - 0s 9ms/step - loss: 2911.9397 - val_loss: 4228.1958\n",
      "Epoch 124/220\n",
      "6/6 [==============================] - 0s 7ms/step - loss: 2896.7261 - val_loss: 4191.9351\n",
      "Epoch 125/220\n",
      "6/6 [==============================] - 0s 8ms/step - loss: 2881.8171 - val_loss: 4151.7271\n",
      "Epoch 126/220\n",
      "6/6 [==============================] - 0s 7ms/step - loss: 2866.6826 - val_loss: 4109.6562\n",
      "Epoch 127/220\n",
      "6/6 [==============================] - 0s 6ms/step - loss: 2850.6145 - val_loss: 4070.7798\n",
      "Epoch 128/220\n",
      "6/6 [==============================] - 0s 8ms/step - loss: 2835.4934 - val_loss: 4025.7014\n",
      "Epoch 129/220\n",
      "6/6 [==============================] - 0s 8ms/step - loss: 2818.8157 - val_loss: 3985.7036\n",
      "Epoch 130/220\n",
      "6/6 [==============================] - 0s 8ms/step - loss: 2802.5608 - val_loss: 3944.9539\n",
      "Epoch 131/220\n",
      "6/6 [==============================] - 0s 10ms/step - loss: 2786.2144 - val_loss: 3899.5256\n",
      "Epoch 132/220\n",
      "6/6 [==============================] - 0s 7ms/step - loss: 2769.4565 - val_loss: 3851.5220\n",
      "Epoch 133/220\n",
      "6/6 [==============================] - 0s 5ms/step - loss: 2752.3425 - val_loss: 3805.5564\n",
      "Epoch 134/220\n",
      "6/6 [==============================] - 0s 5ms/step - loss: 2735.7776 - val_loss: 3753.2893\n",
      "Epoch 135/220\n",
      "6/6 [==============================] - 0s 8ms/step - loss: 2717.6206 - val_loss: 3707.2419\n",
      "Epoch 136/220\n",
      "6/6 [==============================] - 0s 6ms/step - loss: 2700.3013 - val_loss: 3660.4556\n",
      "Epoch 137/220\n",
      "6/6 [==============================] - 0s 7ms/step - loss: 2682.8289 - val_loss: 3611.8840\n",
      "Epoch 138/220\n",
      "6/6 [==============================] - 0s 10ms/step - loss: 2664.5088 - val_loss: 3567.5886\n",
      "Epoch 139/220\n",
      "6/6 [==============================] - 0s 9ms/step - loss: 2647.0647 - val_loss: 3518.2229\n",
      "Epoch 140/220\n",
      "6/6 [==============================] - 0s 7ms/step - loss: 2629.0269 - val_loss: 3462.2222\n",
      "Epoch 141/220\n",
      "6/6 [==============================] - 0s 6ms/step - loss: 2610.3162 - val_loss: 3409.9175\n",
      "Epoch 142/220\n",
      "6/6 [==============================] - 0s 6ms/step - loss: 2591.8965 - val_loss: 3357.1819\n",
      "Epoch 143/220\n",
      "6/6 [==============================] - 0s 7ms/step - loss: 2573.6208 - val_loss: 3302.5000\n",
      "Epoch 144/220\n",
      "6/6 [==============================] - 0s 8ms/step - loss: 2553.8127 - val_loss: 3254.9319\n",
      "Epoch 145/220\n",
      "6/6 [==============================] - 0s 7ms/step - loss: 2534.5378 - val_loss: 3203.2222\n",
      "Epoch 146/220\n",
      "6/6 [==============================] - 0s 10ms/step - loss: 2515.3157 - val_loss: 3149.2903\n",
      "Epoch 147/220\n",
      "6/6 [==============================] - 0s 8ms/step - loss: 2495.1135 - val_loss: 3092.8333\n",
      "Epoch 148/220\n",
      "6/6 [==============================] - 0s 4ms/step - loss: 2475.1357 - val_loss: 3038.8032\n",
      "Epoch 149/220\n",
      "6/6 [==============================] - 0s 5ms/step - loss: 2455.3943 - val_loss: 2974.4180\n",
      "Epoch 150/220\n",
      "6/6 [==============================] - 0s 6ms/step - loss: 2434.2129 - val_loss: 2922.5898\n",
      "Epoch 151/220\n",
      "6/6 [==============================] - 0s 5ms/step - loss: 2413.5093 - val_loss: 2861.7761\n",
      "Epoch 152/220\n",
      "6/6 [==============================] - 0s 4ms/step - loss: 2392.3350 - val_loss: 2804.7832\n",
      "Epoch 153/220\n",
      "6/6 [==============================] - 0s 4ms/step - loss: 2371.2737 - val_loss: 2742.9302\n",
      "Epoch 154/220\n",
      "6/6 [==============================] - 0s 6ms/step - loss: 2350.1982 - val_loss: 2683.5425\n",
      "Epoch 155/220\n",
      "6/6 [==============================] - 0s 5ms/step - loss: 2327.8696 - val_loss: 2626.1267\n",
      "Epoch 156/220\n",
      "6/6 [==============================] - 0s 5ms/step - loss: 2305.6252 - val_loss: 2565.7456\n",
      "Epoch 157/220\n",
      "6/6 [==============================] - 0s 5ms/step - loss: 2282.7214 - val_loss: 2506.2649\n",
      "Epoch 158/220\n",
      "6/6 [==============================] - 0s 9ms/step - loss: 2260.6321 - val_loss: 2441.9050\n",
      "Epoch 159/220\n",
      "6/6 [==============================] - 0s 6ms/step - loss: 2238.7441 - val_loss: 2370.4436\n",
      "Epoch 160/220\n",
      "6/6 [==============================] - 0s 9ms/step - loss: 2215.1560 - val_loss: 2306.4797\n",
      "Epoch 161/220\n",
      "6/6 [==============================] - 0s 5ms/step - loss: 2191.1121 - val_loss: 2248.3281\n",
      "Epoch 162/220\n",
      "6/6 [==============================] - 0s 5ms/step - loss: 2168.7524 - val_loss: 2177.1038\n",
      "Epoch 163/220\n",
      "6/6 [==============================] - 0s 6ms/step - loss: 2144.2251 - val_loss: 2111.0264\n",
      "Epoch 164/220\n",
      "6/6 [==============================] - 0s 7ms/step - loss: 2119.6204 - val_loss: 2050.8022\n",
      "Epoch 165/220\n",
      "6/6 [==============================] - 0s 7ms/step - loss: 2094.9390 - val_loss: 1984.8779\n",
      "Epoch 166/220\n",
      "6/6 [==============================] - 0s 6ms/step - loss: 2071.5801 - val_loss: 1911.5248\n",
      "Epoch 167/220\n",
      "6/6 [==============================] - 0s 6ms/step - loss: 2046.8003 - val_loss: 1848.3223\n",
      "Epoch 168/220\n",
      "6/6 [==============================] - 0s 6ms/step - loss: 2023.1823 - val_loss: 1779.4794\n",
      "Epoch 169/220\n",
      "6/6 [==============================] - 0s 7ms/step - loss: 1998.8547 - val_loss: 1711.6302\n",
      "Epoch 170/220\n",
      "6/6 [==============================] - 0s 5ms/step - loss: 1975.4153 - val_loss: 1638.0751\n",
      "Epoch 171/220\n",
      "6/6 [==============================] - 0s 5ms/step - loss: 1950.5431 - val_loss: 1583.3105\n",
      "Epoch 172/220\n",
      "6/6 [==============================] - 0s 5ms/step - loss: 1926.6353 - val_loss: 1515.9587\n",
      "Epoch 173/220\n",
      "6/6 [==============================] - 0s 5ms/step - loss: 1904.0127 - val_loss: 1442.0681\n",
      "Epoch 174/220\n",
      "6/6 [==============================] - 0s 5ms/step - loss: 1879.5885 - val_loss: 1382.1680\n",
      "Epoch 175/220\n",
      "6/6 [==============================] - 0s 5ms/step - loss: 1857.2113 - val_loss: 1331.5251\n",
      "Epoch 176/220\n",
      "6/6 [==============================] - 0s 5ms/step - loss: 1837.1750 - val_loss: 1291.7617\n",
      "Epoch 177/220\n",
      "6/6 [==============================] - 0s 5ms/step - loss: 1816.5339 - val_loss: 1267.3448\n",
      "Epoch 178/220\n",
      "6/6 [==============================] - 0s 5ms/step - loss: 1796.9404 - val_loss: 1246.4541\n",
      "Epoch 179/220\n",
      "6/6 [==============================] - 0s 5ms/step - loss: 1778.3333 - val_loss: 1221.5491\n",
      "Epoch 180/220\n",
      "6/6 [==============================] - 0s 5ms/step - loss: 1760.0776 - val_loss: 1195.1957\n",
      "Epoch 181/220\n",
      "6/6 [==============================] - 0s 5ms/step - loss: 1741.3566 - val_loss: 1169.1575\n",
      "Epoch 182/220\n",
      "6/6 [==============================] - 0s 5ms/step - loss: 1723.0151 - val_loss: 1142.1373\n",
      "Epoch 183/220\n",
      "6/6 [==============================] - 0s 5ms/step - loss: 1705.5217 - val_loss: 1114.7850\n",
      "Epoch 184/220\n",
      "6/6 [==============================] - 0s 5ms/step - loss: 1686.9954 - val_loss: 1088.6077\n",
      "Epoch 185/220\n",
      "6/6 [==============================] - 0s 5ms/step - loss: 1668.8497 - val_loss: 1061.8921\n",
      "Epoch 186/220\n",
      "6/6 [==============================] - 0s 6ms/step - loss: 1651.2482 - val_loss: 1032.4117\n",
      "Epoch 187/220\n",
      "6/6 [==============================] - 0s 5ms/step - loss: 1631.7390 - val_loss: 1005.6839\n",
      "Epoch 188/220\n",
      "6/6 [==============================] - 0s 5ms/step - loss: 1613.3285 - val_loss: 978.4857\n",
      "Epoch 189/220\n",
      "6/6 [==============================] - 0s 7ms/step - loss: 1596.2753 - val_loss: 950.1706\n",
      "Epoch 190/220\n",
      "6/6 [==============================] - 0s 7ms/step - loss: 1579.5701 - val_loss: 926.5472\n",
      "Epoch 191/220\n",
      "6/6 [==============================] - 0s 9ms/step - loss: 1563.3230 - val_loss: 905.7114\n",
      "Epoch 192/220\n",
      "6/6 [==============================] - 0s 5ms/step - loss: 1547.8760 - val_loss: 887.2818\n",
      "Epoch 193/220\n",
      "6/6 [==============================] - 0s 9ms/step - loss: 1533.7859 - val_loss: 871.2487\n",
      "Epoch 194/220\n",
      "6/6 [==============================] - 0s 13ms/step - loss: 1519.2065 - val_loss: 860.4000\n",
      "Epoch 195/220\n",
      "6/6 [==============================] - 0s 8ms/step - loss: 1505.8855 - val_loss: 850.7959\n",
      "Epoch 196/220\n",
      "6/6 [==============================] - 0s 8ms/step - loss: 1492.8187 - val_loss: 839.7659\n",
      "Epoch 197/220\n",
      "6/6 [==============================] - 0s 12ms/step - loss: 1479.8438 - val_loss: 831.4153\n",
      "Epoch 198/220\n",
      "6/6 [==============================] - 0s 11ms/step - loss: 1466.9989 - val_loss: 818.6313\n",
      "Epoch 199/220\n",
      "6/6 [==============================] - 0s 9ms/step - loss: 1455.3590 - val_loss: 802.1338\n",
      "Epoch 200/220\n",
      "6/6 [==============================] - 0s 7ms/step - loss: 1441.6750 - val_loss: 791.6934\n",
      "Epoch 201/220\n",
      "6/6 [==============================] - 0s 6ms/step - loss: 1429.0543 - val_loss: 779.7274\n",
      "Epoch 202/220\n",
      "6/6 [==============================] - 0s 5ms/step - loss: 1417.7325 - val_loss: 771.3812\n",
      "Epoch 203/220\n",
      "6/6 [==============================] - 0s 6ms/step - loss: 1405.2996 - val_loss: 764.4966\n",
      "Epoch 204/220\n",
      "6/6 [==============================] - 0s 7ms/step - loss: 1393.1188 - val_loss: 759.4957\n",
      "Epoch 205/220\n",
      "6/6 [==============================] - 0s 6ms/step - loss: 1381.3973 - val_loss: 752.3343\n",
      "Epoch 206/220\n",
      "6/6 [==============================] - 0s 6ms/step - loss: 1370.3083 - val_loss: 745.3351\n",
      "Epoch 207/220\n",
      "6/6 [==============================] - 0s 6ms/step - loss: 1358.5541 - val_loss: 739.7950\n",
      "Epoch 208/220\n",
      "6/6 [==============================] - 0s 6ms/step - loss: 1348.0243 - val_loss: 735.4199\n",
      "Epoch 209/220\n",
      "6/6 [==============================] - 0s 7ms/step - loss: 1339.5526 - val_loss: 730.8964\n",
      "Epoch 210/220\n",
      "6/6 [==============================] - 0s 5ms/step - loss: 1331.4039 - val_loss: 725.3145\n",
      "Epoch 211/220\n",
      "6/6 [==============================] - 0s 6ms/step - loss: 1324.6997 - val_loss: 722.6757\n",
      "Epoch 212/220\n",
      "6/6 [==============================] - 0s 7ms/step - loss: 1317.7834 - val_loss: 722.0861\n",
      "Epoch 213/220\n",
      "6/6 [==============================] - 0s 7ms/step - loss: 1312.9031 - val_loss: 722.1859\n",
      "Epoch 214/220\n",
      "6/6 [==============================] - 0s 6ms/step - loss: 1305.6975 - val_loss: 723.3824\n",
      "Epoch 215/220\n",
      "6/6 [==============================] - 0s 6ms/step - loss: 1299.7209 - val_loss: 725.0654\n",
      "Epoch 216/220\n",
      "6/6 [==============================] - 0s 5ms/step - loss: 1294.5687 - val_loss: 725.3527\n",
      "Epoch 217/220\n",
      "6/6 [==============================] - 0s 5ms/step - loss: 1289.7061 - val_loss: 725.1812\n",
      "Epoch 218/220\n",
      "6/6 [==============================] - 0s 5ms/step - loss: 1284.3066 - val_loss: 725.8239\n",
      "Epoch 219/220\n",
      "6/6 [==============================] - 0s 5ms/step - loss: 1280.4783 - val_loss: 729.2574\n",
      "Epoch 220/220\n",
      "6/6 [==============================] - 0s 4ms/step - loss: 1276.9592 - val_loss: 732.4232\n"
     ]
    }
   ],
   "source": [
    "NN_model = Sequential()\n",
    "NN_model.add(Dense(20, input_shape = (scaled_train.shape[1],)))\n",
    "NN_model.add(Dense(10))\n",
    "NN_model.add(Dense(1))\n",
    "NN_model.compile(loss='mean_absolute_error', optimizer=Adam(lr=0.001))\n",
    "NN_model.fit(scaled_train, y_train, validation_data=(\n",
    "    scaled_test, y_test), epochs=220, verbose=1)\n",
    "NN_prediction = NN_model.predict(scaled_test)"
   ]
  },
  {
   "cell_type": "markdown",
   "metadata": {},
   "source": [
    "Let's compare the MAE values."
   ]
  },
  {
   "cell_type": "code",
   "execution_count": 160,
   "metadata": {},
   "outputs": [
    {
     "name": "stdout",
     "output_type": "stream",
     "text": [
      "XGBOOST MAE = 951.46875\n",
      "Prophet MAE = 572.5555342749124\n",
      "SARIMAX MAE = 650.6157483614192\n",
      "NN MAE = 732.4231654575893\n"
     ]
    }
   ],
   "source": [
    "print('XGBOOST MAE =', mean_absolute_error(XGBOOST_prediction, y_test))\n",
    "print('Prophet MAE =', mean_absolute_error(prophet_future, test))\n",
    "print('SARIMAX MAE =', mean_absolute_error(sarimax_prediction, test))\n",
    "print('NN MAE =', mean_absolute_error(NN_prediction, test))"
   ]
  },
  {
   "cell_type": "markdown",
   "metadata": {},
   "source": [
    "Finally let us visualize the predictions of all 4 models. Note the autofmt_xdate method in matplotlib, it knows how to appropriately rotate the date labels on the x-axis."
   ]
  },
  {
   "cell_type": "code",
   "execution_count": 159,
   "metadata": {},
   "outputs": [
    {
     "data": {
      "text/plain": [
       "<Figure size 1440x1440 with 0 Axes>"
      ]
     },
     "metadata": {},
     "output_type": "display_data"
    },
    {
     "data": {
      "image/png": "[encoded data removed]",
      "text/plain": [
       "<Figure size 432x288 with 4 Axes>"
      ]
     },
     "metadata": {
      "needs_background": "light"
     },
     "output_type": "display_data"
    }
   ],
   "source": [
    "\n",
    "XGBOOST_df = pd.DataFrame({'y': XGBOOST_prediction.tolist()})\n",
    "XGBOOST_df.index = y_test.index\n",
    "\n",
    "NN_df = pd.DataFrame(NN_prediction)\n",
    "NN_df.index = y_test.index\n",
    "plt.figure(figsize=(20, 20))\n",
    "fig, axs = plt.subplots(2, 2)\n",
    "fig.suptitle('Compare SARIMAX, prophet, XGBOOST and NN')\n",
    "axs[0, 0].plot(dataset.tail(50))\n",
    "axs[0, 0].plot(sarimax_prediction.tail(50))\n",
    "axs[0, 0].set_title(\"SARIMAX\")\n",
    "axs[0, 1].plot(dataset.tail(50))\n",
    "axs[0, 1].plot(prophet_future.tail(50))\n",
    "axs[0, 1].set_title(\"Prophet\")\n",
    "axs[1, 0].plot(dataset.tail(50))\n",
    "axs[1, 0].plot(XGBOOST_df.tail(50))\n",
    "axs[1, 0].set_title(\"XGBOOST\")\n",
    "axs[1, 1].plot(dataset.tail(50))\n",
    "axs[1, 1].plot(NN_df.tail(50))\n",
    "axs[1, 1].set_title(\"NN\")\n",
    "\n",
    "for ax in fig.get_axes():\n",
    "    ax.label_outer()\n",
    "fig.autofmt_xdate()\n",
    "\n",
    "plt.savefig('Comparison',\n",
    "            bbox_inches='tight', transparent=False)"
   ]
  },
  {
   "cell_type": "code",
   "execution_count": null,
   "metadata": {},
   "outputs": [],
   "source": []
  }
 ],
 "metadata": {
  "kernelspec": {
   "display_name": "Python 3",
   "language": "python",
   "name": "python3"
  },
  "language_info": {
   "codemirror_mode": {
    "name": "ipython",
    "version": 3
   },
   "file_extension": ".py",
   "mimetype": "text/x-python",
   "name": "python",
   "nbconvert_exporter": "python",
   "pygments_lexer": "ipython3",
   "version": "3.6.9"
  }
 },
 "nbformat": 4,
 "nbformat_minor": 4
}
